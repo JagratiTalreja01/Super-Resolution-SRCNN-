{
  "nbformat": 4,
  "nbformat_minor": 0,
  "metadata": {
    "colab": {
      "name": "Batch Normalization.ipynb",
      "provenance": [],
      "authorship_tag": "ABX9TyPE9e8sfPC0rLjpW4J1FnfO",
      "include_colab_link": true
    },
    "kernelspec": {
      "name": "python3",
      "display_name": "Python 3"
    },
    "language_info": {
      "name": "python"
    }
  },
  "cells": [
    {
      "cell_type": "markdown",
      "metadata": {
        "id": "view-in-github",
        "colab_type": "text"
      },
      "source": [
        "<a href=\"https://colab.research.google.com/github/JagratiTalreja01/Super-Resolution-SRCNN-/blob/main/Batch_Normalization.ipynb\" target=\"_parent\"><img src=\"https://colab.research.google.com/assets/colab-badge.svg\" alt=\"Open In Colab\"/></a>"
      ]
    },
    {
      "cell_type": "code",
      "execution_count": 1,
      "metadata": {
        "id": "cdSDyTIFyDjX"
      },
      "outputs": [],
      "source": [
        "from keras.models import Sequential\n",
        "from keras.layers import Conv2D, BatchNormalization\n",
        "from IPython.display import SVG\n",
        "from keras.utils.vis_utils import model_to_dot"
      ]
    },
    {
      "cell_type": "markdown",
      "source": [
        "#WITHOUT BATCHNORMALIZATION LAYER MODEL HAS LESS NUMBER OF PARAMETERS"
      ],
      "metadata": {
        "id": "sZYTX8AmyXgx"
      }
    },
    {
      "cell_type": "code",
      "source": [
        "model = Sequential()\n",
        "model.add(Conv2D(512, (3,3), padding='same', activation='relu', input_shape=(256, 256, 3)))\n",
        "model.add(Conv2D(64, (5,5), activation='relu'))\n",
        "model.summary()"
      ],
      "metadata": {
        "colab": {
          "base_uri": "https://localhost:8080/"
        },
        "id": "YzjnhyoSyaMi",
        "outputId": "5cae3e79-9712-4cb8-d891-18dadc130beb"
      },
      "execution_count": 6,
      "outputs": [
        {
          "output_type": "stream",
          "name": "stdout",
          "text": [
            "Model: \"sequential_2\"\n",
            "_________________________________________________________________\n",
            " Layer (type)                Output Shape              Param #   \n",
            "=================================================================\n",
            " conv2d_4 (Conv2D)           (None, 256, 256, 512)     14336     \n",
            "                                                                 \n",
            " conv2d_5 (Conv2D)           (None, 252, 252, 64)      819264    \n",
            "                                                                 \n",
            "=================================================================\n",
            "Total params: 833,600\n",
            "Trainable params: 833,600\n",
            "Non-trainable params: 0\n",
            "_________________________________________________________________\n"
          ]
        }
      ]
    },
    {
      "cell_type": "code",
      "source": [
        "SVG(model_to_dot(model, show_shapes=True).create(prog='dot', format='svg'))\n"
      ],
      "metadata": {
        "colab": {
          "base_uri": "https://localhost:8080/",
          "height": 415
        },
        "id": "4Nndzgy8ydxH",
        "outputId": "afd58f01-aba7-4d9e-9d95-ec5c20b5aa87"
      },
      "execution_count": 3,
      "outputs": [
        {
          "output_type": "execute_result",
          "data": {
            "text/plain": [
              "<IPython.core.display.SVG object>"
            ],
            "image/svg+xml": "<svg height=\"295pt\" viewBox=\"0.00 0.00 446.00 221.00\" width=\"595pt\" xmlns=\"http://www.w3.org/2000/svg\" xmlns:xlink=\"http://www.w3.org/1999/xlink\">\n<g class=\"graph\" id=\"graph0\" transform=\"scale(1.3333 1.3333) rotate(0) translate(4 217)\">\n<title>G</title>\n<polygon fill=\"#ffffff\" points=\"-4,4 -4,-217 442,-217 442,4 -4,4\" stroke=\"transparent\"/>\n<!-- 139723859968336 -->\n<g class=\"node\" id=\"node1\">\n<title>139723859968336</title>\n<polygon fill=\"none\" points=\"0,-166.5 0,-212.5 438,-212.5 438,-166.5 0,-166.5\" stroke=\"#000000\"/>\n<text fill=\"#000000\" font-family=\"Times,serif\" font-size=\"14.00\" text-anchor=\"middle\" x=\"49\" y=\"-197.3\">conv2d_input</text>\n<polyline fill=\"none\" points=\"0,-189.5 98,-189.5 \" stroke=\"#000000\"/>\n<text fill=\"#000000\" font-family=\"Times,serif\" font-size=\"14.00\" text-anchor=\"middle\" x=\"49\" y=\"-174.3\">InputLayer</text>\n<polyline fill=\"none\" points=\"98,-166.5 98,-212.5 \" stroke=\"#000000\"/>\n<text fill=\"#000000\" font-family=\"Times,serif\" font-size=\"14.00\" text-anchor=\"middle\" x=\"127\" y=\"-197.3\">input:</text>\n<polyline fill=\"none\" points=\"98,-189.5 156,-189.5 \" stroke=\"#000000\"/>\n<text fill=\"#000000\" font-family=\"Times,serif\" font-size=\"14.00\" text-anchor=\"middle\" x=\"127\" y=\"-174.3\">output:</text>\n<polyline fill=\"none\" points=\"156,-166.5 156,-212.5 \" stroke=\"#000000\"/>\n<text fill=\"#000000\" font-family=\"Times,serif\" font-size=\"14.00\" text-anchor=\"middle\" x=\"226.5\" y=\"-185.8\">[(None, 256, 256, 3)]</text>\n<polyline fill=\"none\" points=\"297,-166.5 297,-212.5 \" stroke=\"#000000\"/>\n<text fill=\"#000000\" font-family=\"Times,serif\" font-size=\"14.00\" text-anchor=\"middle\" x=\"367.5\" y=\"-185.8\">[(None, 256, 256, 3)]</text>\n</g>\n<!-- 139726054217552 -->\n<g class=\"node\" id=\"node2\">\n<title>139726054217552</title>\n<polygon fill=\"none\" points=\"17,-83.5 17,-129.5 421,-129.5 421,-83.5 17,-83.5\" stroke=\"#000000\"/>\n<text fill=\"#000000\" font-family=\"Times,serif\" font-size=\"14.00\" text-anchor=\"middle\" x=\"50.5\" y=\"-114.3\">conv2d</text>\n<polyline fill=\"none\" points=\"17,-106.5 84,-106.5 \" stroke=\"#000000\"/>\n<text fill=\"#000000\" font-family=\"Times,serif\" font-size=\"14.00\" text-anchor=\"middle\" x=\"50.5\" y=\"-91.3\">Conv2D</text>\n<polyline fill=\"none\" points=\"84,-83.5 84,-129.5 \" stroke=\"#000000\"/>\n<text fill=\"#000000\" font-family=\"Times,serif\" font-size=\"14.00\" text-anchor=\"middle\" x=\"113\" y=\"-114.3\">input:</text>\n<polyline fill=\"none\" points=\"84,-106.5 142,-106.5 \" stroke=\"#000000\"/>\n<text fill=\"#000000\" font-family=\"Times,serif\" font-size=\"14.00\" text-anchor=\"middle\" x=\"113\" y=\"-91.3\">output:</text>\n<polyline fill=\"none\" points=\"142,-83.5 142,-129.5 \" stroke=\"#000000\"/>\n<text fill=\"#000000\" font-family=\"Times,serif\" font-size=\"14.00\" text-anchor=\"middle\" x=\"208\" y=\"-102.8\">(None, 256, 256, 3)</text>\n<polyline fill=\"none\" points=\"274,-83.5 274,-129.5 \" stroke=\"#000000\"/>\n<text fill=\"#000000\" font-family=\"Times,serif\" font-size=\"14.00\" text-anchor=\"middle\" x=\"347.5\" y=\"-102.8\">(None, 256, 256, 512)</text>\n</g>\n<!-- 139723859968336&#45;&gt;139726054217552 -->\n<g class=\"edge\" id=\"edge1\">\n<title>139723859968336-&gt;139726054217552</title>\n<path d=\"M219,-166.3799C219,-158.1745 219,-148.7679 219,-139.8786\" fill=\"none\" stroke=\"#000000\"/>\n<polygon fill=\"#000000\" points=\"222.5001,-139.784 219,-129.784 215.5001,-139.784 222.5001,-139.784\" stroke=\"#000000\"/>\n</g>\n<!-- 139723860160656 -->\n<g class=\"node\" id=\"node3\">\n<title>139723860160656</title>\n<polygon fill=\"none\" points=\"9,-.5 9,-46.5 429,-46.5 429,-.5 9,-.5\" stroke=\"#000000\"/>\n<text fill=\"#000000\" font-family=\"Times,serif\" font-size=\"14.00\" text-anchor=\"middle\" x=\"46.5\" y=\"-31.3\">conv2d_1</text>\n<polyline fill=\"none\" points=\"9,-23.5 84,-23.5 \" stroke=\"#000000\"/>\n<text fill=\"#000000\" font-family=\"Times,serif\" font-size=\"14.00\" text-anchor=\"middle\" x=\"46.5\" y=\"-8.3\">Conv2D</text>\n<polyline fill=\"none\" points=\"84,-.5 84,-46.5 \" stroke=\"#000000\"/>\n<text fill=\"#000000\" font-family=\"Times,serif\" font-size=\"14.00\" text-anchor=\"middle\" x=\"113\" y=\"-31.3\">input:</text>\n<polyline fill=\"none\" points=\"84,-23.5 142,-23.5 \" stroke=\"#000000\"/>\n<text fill=\"#000000\" font-family=\"Times,serif\" font-size=\"14.00\" text-anchor=\"middle\" x=\"113\" y=\"-8.3\">output:</text>\n<polyline fill=\"none\" points=\"142,-.5 142,-46.5 \" stroke=\"#000000\"/>\n<text fill=\"#000000\" font-family=\"Times,serif\" font-size=\"14.00\" text-anchor=\"middle\" x=\"215.5\" y=\"-19.8\">(None, 256, 256, 512)</text>\n<polyline fill=\"none\" points=\"289,-.5 289,-46.5 \" stroke=\"#000000\"/>\n<text fill=\"#000000\" font-family=\"Times,serif\" font-size=\"14.00\" text-anchor=\"middle\" x=\"359\" y=\"-19.8\">(None, 252, 252, 64)</text>\n</g>\n<!-- 139726054217552&#45;&gt;139723860160656 -->\n<g class=\"edge\" id=\"edge2\">\n<title>139726054217552-&gt;139723860160656</title>\n<path d=\"M219,-83.3799C219,-75.1745 219,-65.7679 219,-56.8786\" fill=\"none\" stroke=\"#000000\"/>\n<polygon fill=\"#000000\" points=\"222.5001,-56.784 219,-46.784 215.5001,-56.784 222.5001,-56.784\" stroke=\"#000000\"/>\n</g>\n</g>\n</svg>"
          },
          "metadata": {},
          "execution_count": 3
        }
      ]
    },
    {
      "cell_type": "markdown",
      "source": [
        "#MODEL WITH BATCHNORMALIZATION NUMBER OF PARAMETERS INCREASES"
      ],
      "metadata": {
        "id": "dWLKlMm3yhOX"
      }
    },
    {
      "cell_type": "code",
      "source": [
        "model = Sequential()\n",
        "model.add(Conv2D(512, (3,3), padding='same', activation='relu', input_shape=(256, 256, 3)))\n",
        "model.add(BatchNormalization(axis = 3, name = 'Batch_Norm_1'))\n",
        "model.add(Conv2D(64, (5,5), activation='relu'))\n",
        "model.summary()"
      ],
      "metadata": {
        "colab": {
          "base_uri": "https://localhost:8080/"
        },
        "id": "Hxy3kMDMyjnH",
        "outputId": "f96b9acf-a7ce-4e25-de80-1edea6678a53"
      },
      "execution_count": 4,
      "outputs": [
        {
          "output_type": "stream",
          "name": "stdout",
          "text": [
            "Model: \"sequential_1\"\n",
            "_________________________________________________________________\n",
            " Layer (type)                Output Shape              Param #   \n",
            "=================================================================\n",
            " conv2d_2 (Conv2D)           (None, 256, 256, 512)     14336     \n",
            "                                                                 \n",
            " Batch_Norm_1 (BatchNormaliz  (None, 256, 256, 512)    2048      \n",
            " ation)                                                          \n",
            "                                                                 \n",
            " conv2d_3 (Conv2D)           (None, 252, 252, 64)      819264    \n",
            "                                                                 \n",
            "=================================================================\n",
            "Total params: 835,648\n",
            "Trainable params: 834,624\n",
            "Non-trainable params: 1,024\n",
            "_________________________________________________________________\n"
          ]
        }
      ]
    },
    {
      "cell_type": "code",
      "source": [
        "SVG(model_to_dot(model, show_shapes=True).create(prog='dot', format='svg'))"
      ],
      "metadata": {
        "colab": {
          "base_uri": "https://localhost:8080/",
          "height": 561
        },
        "id": "OE0HGZpryly_",
        "outputId": "067b523e-df7a-48fa-8d12-13ecd5724f48"
      },
      "execution_count": 5,
      "outputs": [
        {
          "output_type": "execute_result",
          "data": {
            "text/plain": [
              "<IPython.core.display.SVG object>"
            ],
            "image/svg+xml": "<svg height=\"405pt\" viewBox=\"0.00 0.00 491.00 304.00\" width=\"655pt\" xmlns=\"http://www.w3.org/2000/svg\" xmlns:xlink=\"http://www.w3.org/1999/xlink\">\n<g class=\"graph\" id=\"graph0\" transform=\"scale(1.3333 1.3333) rotate(0) translate(4 300)\">\n<title>G</title>\n<polygon fill=\"#ffffff\" points=\"-4,4 -4,-300 487,-300 487,4 -4,4\" stroke=\"transparent\"/>\n<!-- 139723790984720 -->\n<g class=\"node\" id=\"node1\">\n<title>139723790984720</title>\n<polygon fill=\"none\" points=\"15,-249.5 15,-295.5 468,-295.5 468,-249.5 15,-249.5\" stroke=\"#000000\"/>\n<text fill=\"#000000\" font-family=\"Times,serif\" font-size=\"14.00\" text-anchor=\"middle\" x=\"71.5\" y=\"-280.3\">conv2d_2_input</text>\n<polyline fill=\"none\" points=\"15,-272.5 128,-272.5 \" stroke=\"#000000\"/>\n<text fill=\"#000000\" font-family=\"Times,serif\" font-size=\"14.00\" text-anchor=\"middle\" x=\"71.5\" y=\"-257.3\">InputLayer</text>\n<polyline fill=\"none\" points=\"128,-249.5 128,-295.5 \" stroke=\"#000000\"/>\n<text fill=\"#000000\" font-family=\"Times,serif\" font-size=\"14.00\" text-anchor=\"middle\" x=\"157\" y=\"-280.3\">input:</text>\n<polyline fill=\"none\" points=\"128,-272.5 186,-272.5 \" stroke=\"#000000\"/>\n<text fill=\"#000000\" font-family=\"Times,serif\" font-size=\"14.00\" text-anchor=\"middle\" x=\"157\" y=\"-257.3\">output:</text>\n<polyline fill=\"none\" points=\"186,-249.5 186,-295.5 \" stroke=\"#000000\"/>\n<text fill=\"#000000\" font-family=\"Times,serif\" font-size=\"14.00\" text-anchor=\"middle\" x=\"256.5\" y=\"-268.8\">[(None, 256, 256, 3)]</text>\n<polyline fill=\"none\" points=\"327,-249.5 327,-295.5 \" stroke=\"#000000\"/>\n<text fill=\"#000000\" font-family=\"Times,serif\" font-size=\"14.00\" text-anchor=\"middle\" x=\"397.5\" y=\"-268.8\">[(None, 256, 256, 3)]</text>\n</g>\n<!-- 139723791451920 -->\n<g class=\"node\" id=\"node2\">\n<title>139723791451920</title>\n<polygon fill=\"none\" points=\"35.5,-166.5 35.5,-212.5 447.5,-212.5 447.5,-166.5 35.5,-166.5\" stroke=\"#000000\"/>\n<text fill=\"#000000\" font-family=\"Times,serif\" font-size=\"14.00\" text-anchor=\"middle\" x=\"73\" y=\"-197.3\">conv2d_2</text>\n<polyline fill=\"none\" points=\"35.5,-189.5 110.5,-189.5 \" stroke=\"#000000\"/>\n<text fill=\"#000000\" font-family=\"Times,serif\" font-size=\"14.00\" text-anchor=\"middle\" x=\"73\" y=\"-174.3\">Conv2D</text>\n<polyline fill=\"none\" points=\"110.5,-166.5 110.5,-212.5 \" stroke=\"#000000\"/>\n<text fill=\"#000000\" font-family=\"Times,serif\" font-size=\"14.00\" text-anchor=\"middle\" x=\"139.5\" y=\"-197.3\">input:</text>\n<polyline fill=\"none\" points=\"110.5,-189.5 168.5,-189.5 \" stroke=\"#000000\"/>\n<text fill=\"#000000\" font-family=\"Times,serif\" font-size=\"14.00\" text-anchor=\"middle\" x=\"139.5\" y=\"-174.3\">output:</text>\n<polyline fill=\"none\" points=\"168.5,-166.5 168.5,-212.5 \" stroke=\"#000000\"/>\n<text fill=\"#000000\" font-family=\"Times,serif\" font-size=\"14.00\" text-anchor=\"middle\" x=\"234.5\" y=\"-185.8\">(None, 256, 256, 3)</text>\n<polyline fill=\"none\" points=\"300.5,-166.5 300.5,-212.5 \" stroke=\"#000000\"/>\n<text fill=\"#000000\" font-family=\"Times,serif\" font-size=\"14.00\" text-anchor=\"middle\" x=\"374\" y=\"-185.8\">(None, 256, 256, 512)</text>\n</g>\n<!-- 139723790984720&#45;&gt;139723791451920 -->\n<g class=\"edge\" id=\"edge1\">\n<title>139723790984720-&gt;139723791451920</title>\n<path d=\"M241.5,-249.3799C241.5,-241.1745 241.5,-231.7679 241.5,-222.8786\" fill=\"none\" stroke=\"#000000\"/>\n<polygon fill=\"#000000\" points=\"245.0001,-222.784 241.5,-212.784 238.0001,-222.784 245.0001,-222.784\" stroke=\"#000000\"/>\n</g>\n<!-- 139723791452688 -->\n<g class=\"node\" id=\"node3\">\n<title>139723791452688</title>\n<polygon fill=\"none\" points=\"0,-83.5 0,-129.5 483,-129.5 483,-83.5 0,-83.5\" stroke=\"#000000\"/>\n<text fill=\"#000000\" font-family=\"Times,serif\" font-size=\"14.00\" text-anchor=\"middle\" x=\"65.5\" y=\"-114.3\">Batch_Norm_1</text>\n<polyline fill=\"none\" points=\"0,-106.5 131,-106.5 \" stroke=\"#000000\"/>\n<text fill=\"#000000\" font-family=\"Times,serif\" font-size=\"14.00\" text-anchor=\"middle\" x=\"65.5\" y=\"-91.3\">BatchNormalization</text>\n<polyline fill=\"none\" points=\"131,-83.5 131,-129.5 \" stroke=\"#000000\"/>\n<text fill=\"#000000\" font-family=\"Times,serif\" font-size=\"14.00\" text-anchor=\"middle\" x=\"160\" y=\"-114.3\">input:</text>\n<polyline fill=\"none\" points=\"131,-106.5 189,-106.5 \" stroke=\"#000000\"/>\n<text fill=\"#000000\" font-family=\"Times,serif\" font-size=\"14.00\" text-anchor=\"middle\" x=\"160\" y=\"-91.3\">output:</text>\n<polyline fill=\"none\" points=\"189,-83.5 189,-129.5 \" stroke=\"#000000\"/>\n<text fill=\"#000000\" font-family=\"Times,serif\" font-size=\"14.00\" text-anchor=\"middle\" x=\"262.5\" y=\"-102.8\">(None, 256, 256, 512)</text>\n<polyline fill=\"none\" points=\"336,-83.5 336,-129.5 \" stroke=\"#000000\"/>\n<text fill=\"#000000\" font-family=\"Times,serif\" font-size=\"14.00\" text-anchor=\"middle\" x=\"409.5\" y=\"-102.8\">(None, 256, 256, 512)</text>\n</g>\n<!-- 139723791451920&#45;&gt;139723791452688 -->\n<g class=\"edge\" id=\"edge2\">\n<title>139723791451920-&gt;139723791452688</title>\n<path d=\"M241.5,-166.3799C241.5,-158.1745 241.5,-148.7679 241.5,-139.8786\" fill=\"none\" stroke=\"#000000\"/>\n<polygon fill=\"#000000\" points=\"245.0001,-139.784 241.5,-129.784 238.0001,-139.784 245.0001,-139.784\" stroke=\"#000000\"/>\n</g>\n<!-- 139723791451728 -->\n<g class=\"node\" id=\"node4\">\n<title>139723791451728</title>\n<polygon fill=\"none\" points=\"31.5,-.5 31.5,-46.5 451.5,-46.5 451.5,-.5 31.5,-.5\" stroke=\"#000000\"/>\n<text fill=\"#000000\" font-family=\"Times,serif\" font-size=\"14.00\" text-anchor=\"middle\" x=\"69\" y=\"-31.3\">conv2d_3</text>\n<polyline fill=\"none\" points=\"31.5,-23.5 106.5,-23.5 \" stroke=\"#000000\"/>\n<text fill=\"#000000\" font-family=\"Times,serif\" font-size=\"14.00\" text-anchor=\"middle\" x=\"69\" y=\"-8.3\">Conv2D</text>\n<polyline fill=\"none\" points=\"106.5,-.5 106.5,-46.5 \" stroke=\"#000000\"/>\n<text fill=\"#000000\" font-family=\"Times,serif\" font-size=\"14.00\" text-anchor=\"middle\" x=\"135.5\" y=\"-31.3\">input:</text>\n<polyline fill=\"none\" points=\"106.5,-23.5 164.5,-23.5 \" stroke=\"#000000\"/>\n<text fill=\"#000000\" font-family=\"Times,serif\" font-size=\"14.00\" text-anchor=\"middle\" x=\"135.5\" y=\"-8.3\">output:</text>\n<polyline fill=\"none\" points=\"164.5,-.5 164.5,-46.5 \" stroke=\"#000000\"/>\n<text fill=\"#000000\" font-family=\"Times,serif\" font-size=\"14.00\" text-anchor=\"middle\" x=\"238\" y=\"-19.8\">(None, 256, 256, 512)</text>\n<polyline fill=\"none\" points=\"311.5,-.5 311.5,-46.5 \" stroke=\"#000000\"/>\n<text fill=\"#000000\" font-family=\"Times,serif\" font-size=\"14.00\" text-anchor=\"middle\" x=\"381.5\" y=\"-19.8\">(None, 252, 252, 64)</text>\n</g>\n<!-- 139723791452688&#45;&gt;139723791451728 -->\n<g class=\"edge\" id=\"edge3\">\n<title>139723791452688-&gt;139723791451728</title>\n<path d=\"M241.5,-83.3799C241.5,-75.1745 241.5,-65.7679 241.5,-56.8786\" fill=\"none\" stroke=\"#000000\"/>\n<polygon fill=\"#000000\" points=\"245.0001,-56.784 241.5,-46.784 238.0001,-56.784 245.0001,-56.784\" stroke=\"#000000\"/>\n</g>\n</g>\n</svg>"
          },
          "metadata": {},
          "execution_count": 5
        }
      ]
    }
  ]
}