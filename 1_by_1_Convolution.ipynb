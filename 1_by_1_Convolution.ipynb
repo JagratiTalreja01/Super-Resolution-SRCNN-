{
  "nbformat": 4,
  "nbformat_minor": 0,
  "metadata": {
    "colab": {
      "name": "1 by 1 Convolution.ipynb",
      "provenance": [],
      "authorship_tag": "ABX9TyMhXNaSzCoD//rmmOYshojw",
      "include_colab_link": true
    },
    "kernelspec": {
      "name": "python3",
      "display_name": "Python 3"
    },
    "language_info": {
      "name": "python"
    }
  },
  "cells": [
    {
      "cell_type": "markdown",
      "metadata": {
        "id": "view-in-github",
        "colab_type": "text"
      },
      "source": [
        "<a href=\"https://colab.research.google.com/github/JagratiTalreja01/Super-Resolution-SRCNN-/blob/main/1_by_1_Convolution.ipynb\" target=\"_parent\"><img src=\"https://colab.research.google.com/assets/colab-badge.svg\" alt=\"Open In Colab\"/></a>"
      ]
    },
    {
      "cell_type": "code",
      "execution_count": 1,
      "metadata": {
        "id": "7yWfrnJrrZYC"
      },
      "outputs": [],
      "source": [
        "from keras.models import Sequential\n",
        "from keras.layers import Conv2D\n",
        "from IPython.display import SVG\n",
        "from keras.utils.vis_utils import model_to_dot"
      ]
    },
    {
      "cell_type": "markdown",
      "source": [
        "WITHOUT 1 x 1 CONVOLUTION LAYER APPLIED"
      ],
      "metadata": {
        "id": "IR2YGjszrhsu"
      }
    },
    {
      "cell_type": "code",
      "source": [
        "model = Sequential()\n",
        "model.add(Conv2D(512, (3,3), padding='same', activation='relu', input_shape=(256, 256, 3)))\n",
        "model.add(Conv2D(64, (5,5), activation='relu'))\n",
        "model.summary()"
      ],
      "metadata": {
        "colab": {
          "base_uri": "https://localhost:8080/"
        },
        "id": "hdZSpTw1rkJN",
        "outputId": "430fe9d6-7511-415b-9c0a-124215dd60d1"
      },
      "execution_count": 2,
      "outputs": [
        {
          "output_type": "stream",
          "name": "stdout",
          "text": [
            "Model: \"sequential\"\n",
            "_________________________________________________________________\n",
            " Layer (type)                Output Shape              Param #   \n",
            "=================================================================\n",
            " conv2d (Conv2D)             (None, 256, 256, 512)     14336     \n",
            "                                                                 \n",
            " conv2d_1 (Conv2D)           (None, 252, 252, 64)      819264    \n",
            "                                                                 \n",
            "=================================================================\n",
            "Total params: 833,600\n",
            "Trainable params: 833,600\n",
            "Non-trainable params: 0\n",
            "_________________________________________________________________\n"
          ]
        }
      ]
    },
    {
      "cell_type": "code",
      "source": [
        "SVG(model_to_dot(model, show_shapes=True).create(prog='dot', format='svg'))"
      ],
      "metadata": {
        "colab": {
          "base_uri": "https://localhost:8080/",
          "height": 415
        },
        "id": "9N0YwNHmrpBF",
        "outputId": "7857ff2e-850c-48e1-a6cc-ff2be7d6dc36"
      },
      "execution_count": 3,
      "outputs": [
        {
          "output_type": "execute_result",
          "data": {
            "text/plain": [
              "<IPython.core.display.SVG object>"
            ],
            "image/svg+xml": "<svg height=\"295pt\" viewBox=\"0.00 0.00 446.00 221.00\" width=\"595pt\" xmlns=\"http://www.w3.org/2000/svg\" xmlns:xlink=\"http://www.w3.org/1999/xlink\">\n<g class=\"graph\" id=\"graph0\" transform=\"scale(1.3333 1.3333) rotate(0) translate(4 217)\">\n<title>G</title>\n<polygon fill=\"#ffffff\" points=\"-4,4 -4,-217 442,-217 442,4 -4,4\" stroke=\"transparent\"/>\n<!-- 140378225265552 -->\n<g class=\"node\" id=\"node1\">\n<title>140378225265552</title>\n<polygon fill=\"none\" points=\"0,-166.5 0,-212.5 438,-212.5 438,-166.5 0,-166.5\" stroke=\"#000000\"/>\n<text fill=\"#000000\" font-family=\"Times,serif\" font-size=\"14.00\" text-anchor=\"middle\" x=\"49\" y=\"-197.3\">conv2d_input</text>\n<polyline fill=\"none\" points=\"0,-189.5 98,-189.5 \" stroke=\"#000000\"/>\n<text fill=\"#000000\" font-family=\"Times,serif\" font-size=\"14.00\" text-anchor=\"middle\" x=\"49\" y=\"-174.3\">InputLayer</text>\n<polyline fill=\"none\" points=\"98,-166.5 98,-212.5 \" stroke=\"#000000\"/>\n<text fill=\"#000000\" font-family=\"Times,serif\" font-size=\"14.00\" text-anchor=\"middle\" x=\"127\" y=\"-197.3\">input:</text>\n<polyline fill=\"none\" points=\"98,-189.5 156,-189.5 \" stroke=\"#000000\"/>\n<text fill=\"#000000\" font-family=\"Times,serif\" font-size=\"14.00\" text-anchor=\"middle\" x=\"127\" y=\"-174.3\">output:</text>\n<polyline fill=\"none\" points=\"156,-166.5 156,-212.5 \" stroke=\"#000000\"/>\n<text fill=\"#000000\" font-family=\"Times,serif\" font-size=\"14.00\" text-anchor=\"middle\" x=\"226.5\" y=\"-185.8\">[(None, 256, 256, 3)]</text>\n<polyline fill=\"none\" points=\"297,-166.5 297,-212.5 \" stroke=\"#000000\"/>\n<text fill=\"#000000\" font-family=\"Times,serif\" font-size=\"14.00\" text-anchor=\"middle\" x=\"367.5\" y=\"-185.8\">[(None, 256, 256, 3)]</text>\n</g>\n<!-- 140378225515856 -->\n<g class=\"node\" id=\"node2\">\n<title>140378225515856</title>\n<polygon fill=\"none\" points=\"17,-83.5 17,-129.5 421,-129.5 421,-83.5 17,-83.5\" stroke=\"#000000\"/>\n<text fill=\"#000000\" font-family=\"Times,serif\" font-size=\"14.00\" text-anchor=\"middle\" x=\"50.5\" y=\"-114.3\">conv2d</text>\n<polyline fill=\"none\" points=\"17,-106.5 84,-106.5 \" stroke=\"#000000\"/>\n<text fill=\"#000000\" font-family=\"Times,serif\" font-size=\"14.00\" text-anchor=\"middle\" x=\"50.5\" y=\"-91.3\">Conv2D</text>\n<polyline fill=\"none\" points=\"84,-83.5 84,-129.5 \" stroke=\"#000000\"/>\n<text fill=\"#000000\" font-family=\"Times,serif\" font-size=\"14.00\" text-anchor=\"middle\" x=\"113\" y=\"-114.3\">input:</text>\n<polyline fill=\"none\" points=\"84,-106.5 142,-106.5 \" stroke=\"#000000\"/>\n<text fill=\"#000000\" font-family=\"Times,serif\" font-size=\"14.00\" text-anchor=\"middle\" x=\"113\" y=\"-91.3\">output:</text>\n<polyline fill=\"none\" points=\"142,-83.5 142,-129.5 \" stroke=\"#000000\"/>\n<text fill=\"#000000\" font-family=\"Times,serif\" font-size=\"14.00\" text-anchor=\"middle\" x=\"208\" y=\"-102.8\">(None, 256, 256, 3)</text>\n<polyline fill=\"none\" points=\"274,-83.5 274,-129.5 \" stroke=\"#000000\"/>\n<text fill=\"#000000\" font-family=\"Times,serif\" font-size=\"14.00\" text-anchor=\"middle\" x=\"347.5\" y=\"-102.8\">(None, 256, 256, 512)</text>\n</g>\n<!-- 140378225265552&#45;&gt;140378225515856 -->\n<g class=\"edge\" id=\"edge1\">\n<title>140378225265552-&gt;140378225515856</title>\n<path d=\"M219,-166.3799C219,-158.1745 219,-148.7679 219,-139.8786\" fill=\"none\" stroke=\"#000000\"/>\n<polygon fill=\"#000000\" points=\"222.5001,-139.784 219,-129.784 215.5001,-139.784 222.5001,-139.784\" stroke=\"#000000\"/>\n</g>\n<!-- 140378225513360 -->\n<g class=\"node\" id=\"node3\">\n<title>140378225513360</title>\n<polygon fill=\"none\" points=\"9,-.5 9,-46.5 429,-46.5 429,-.5 9,-.5\" stroke=\"#000000\"/>\n<text fill=\"#000000\" font-family=\"Times,serif\" font-size=\"14.00\" text-anchor=\"middle\" x=\"46.5\" y=\"-31.3\">conv2d_1</text>\n<polyline fill=\"none\" points=\"9,-23.5 84,-23.5 \" stroke=\"#000000\"/>\n<text fill=\"#000000\" font-family=\"Times,serif\" font-size=\"14.00\" text-anchor=\"middle\" x=\"46.5\" y=\"-8.3\">Conv2D</text>\n<polyline fill=\"none\" points=\"84,-.5 84,-46.5 \" stroke=\"#000000\"/>\n<text fill=\"#000000\" font-family=\"Times,serif\" font-size=\"14.00\" text-anchor=\"middle\" x=\"113\" y=\"-31.3\">input:</text>\n<polyline fill=\"none\" points=\"84,-23.5 142,-23.5 \" stroke=\"#000000\"/>\n<text fill=\"#000000\" font-family=\"Times,serif\" font-size=\"14.00\" text-anchor=\"middle\" x=\"113\" y=\"-8.3\">output:</text>\n<polyline fill=\"none\" points=\"142,-.5 142,-46.5 \" stroke=\"#000000\"/>\n<text fill=\"#000000\" font-family=\"Times,serif\" font-size=\"14.00\" text-anchor=\"middle\" x=\"215.5\" y=\"-19.8\">(None, 256, 256, 512)</text>\n<polyline fill=\"none\" points=\"289,-.5 289,-46.5 \" stroke=\"#000000\"/>\n<text fill=\"#000000\" font-family=\"Times,serif\" font-size=\"14.00\" text-anchor=\"middle\" x=\"359\" y=\"-19.8\">(None, 252, 252, 64)</text>\n</g>\n<!-- 140378225515856&#45;&gt;140378225513360 -->\n<g class=\"edge\" id=\"edge2\">\n<title>140378225515856-&gt;140378225513360</title>\n<path d=\"M219,-83.3799C219,-75.1745 219,-65.7679 219,-56.8786\" fill=\"none\" stroke=\"#000000\"/>\n<polygon fill=\"#000000\" points=\"222.5001,-56.784 219,-46.784 215.5001,-56.784 222.5001,-56.784\" stroke=\"#000000\"/>\n</g>\n</g>\n</svg>"
          },
          "metadata": {},
          "execution_count": 3
        }
      ]
    },
    {
      "cell_type": "markdown",
      "source": [
        "USING 1 x 1 Convolution Layer"
      ],
      "metadata": {
        "id": "0pzXbSFvrseN"
      }
    },
    {
      "cell_type": "code",
      "source": [
        "model = Sequential()\n",
        "model.add(Conv2D(512, (3,3), padding='same', activation='relu', input_shape=(256, 256, 3)))\n",
        "model.add(Conv2D(1, (1,1), activation='relu'))\n",
        "model.add(Conv2D(64, (5,5), activation='relu'))\n",
        "model.summary()"
      ],
      "metadata": {
        "colab": {
          "base_uri": "https://localhost:8080/"
        },
        "id": "87Hhn80SrrqB",
        "outputId": "a45309a8-0ac3-447e-fd05-ede47f58632f"
      },
      "execution_count": 4,
      "outputs": [
        {
          "output_type": "stream",
          "name": "stdout",
          "text": [
            "Model: \"sequential_1\"\n",
            "_________________________________________________________________\n",
            " Layer (type)                Output Shape              Param #   \n",
            "=================================================================\n",
            " conv2d_2 (Conv2D)           (None, 256, 256, 512)     14336     \n",
            "                                                                 \n",
            " conv2d_3 (Conv2D)           (None, 256, 256, 1)       513       \n",
            "                                                                 \n",
            " conv2d_4 (Conv2D)           (None, 252, 252, 64)      1664      \n",
            "                                                                 \n",
            "=================================================================\n",
            "Total params: 16,513\n",
            "Trainable params: 16,513\n",
            "Non-trainable params: 0\n",
            "_________________________________________________________________\n"
          ]
        }
      ]
    },
    {
      "cell_type": "code",
      "source": [
        "SVG(model_to_dot(model, show_shapes=True).create(prog='dot', format='svg'))"
      ],
      "metadata": {
        "colab": {
          "base_uri": "https://localhost:8080/",
          "height": 561
        },
        "id": "wifa7Ohwr0BF",
        "outputId": "51d8672b-54ca-4597-a247-066e29856308"
      },
      "execution_count": 5,
      "outputs": [
        {
          "output_type": "execute_result",
          "data": {
            "text/plain": [
              "<IPython.core.display.SVG object>"
            ],
            "image/svg+xml": "<svg height=\"405pt\" viewBox=\"0.00 0.00 461.00 304.00\" width=\"615pt\" xmlns=\"http://www.w3.org/2000/svg\" xmlns:xlink=\"http://www.w3.org/1999/xlink\">\n<g class=\"graph\" id=\"graph0\" transform=\"scale(1.3333 1.3333) rotate(0) translate(4 300)\">\n<title>G</title>\n<polygon fill=\"#ffffff\" points=\"-4,4 -4,-300 457,-300 457,4 -4,4\" stroke=\"transparent\"/>\n<!-- 140378156100304 -->\n<g class=\"node\" id=\"node1\">\n<title>140378156100304</title>\n<polygon fill=\"none\" points=\"0,-249.5 0,-295.5 453,-295.5 453,-249.5 0,-249.5\" stroke=\"#000000\"/>\n<text fill=\"#000000\" font-family=\"Times,serif\" font-size=\"14.00\" text-anchor=\"middle\" x=\"56.5\" y=\"-280.3\">conv2d_2_input</text>\n<polyline fill=\"none\" points=\"0,-272.5 113,-272.5 \" stroke=\"#000000\"/>\n<text fill=\"#000000\" font-family=\"Times,serif\" font-size=\"14.00\" text-anchor=\"middle\" x=\"56.5\" y=\"-257.3\">InputLayer</text>\n<polyline fill=\"none\" points=\"113,-249.5 113,-295.5 \" stroke=\"#000000\"/>\n<text fill=\"#000000\" font-family=\"Times,serif\" font-size=\"14.00\" text-anchor=\"middle\" x=\"142\" y=\"-280.3\">input:</text>\n<polyline fill=\"none\" points=\"113,-272.5 171,-272.5 \" stroke=\"#000000\"/>\n<text fill=\"#000000\" font-family=\"Times,serif\" font-size=\"14.00\" text-anchor=\"middle\" x=\"142\" y=\"-257.3\">output:</text>\n<polyline fill=\"none\" points=\"171,-249.5 171,-295.5 \" stroke=\"#000000\"/>\n<text fill=\"#000000\" font-family=\"Times,serif\" font-size=\"14.00\" text-anchor=\"middle\" x=\"241.5\" y=\"-268.8\">[(None, 256, 256, 3)]</text>\n<polyline fill=\"none\" points=\"312,-249.5 312,-295.5 \" stroke=\"#000000\"/>\n<text fill=\"#000000\" font-family=\"Times,serif\" font-size=\"14.00\" text-anchor=\"middle\" x=\"382.5\" y=\"-268.8\">[(None, 256, 256, 3)]</text>\n</g>\n<!-- 140378156452624 -->\n<g class=\"node\" id=\"node2\">\n<title>140378156452624</title>\n<polygon fill=\"none\" points=\"20.5,-166.5 20.5,-212.5 432.5,-212.5 432.5,-166.5 20.5,-166.5\" stroke=\"#000000\"/>\n<text fill=\"#000000\" font-family=\"Times,serif\" font-size=\"14.00\" text-anchor=\"middle\" x=\"58\" y=\"-197.3\">conv2d_2</text>\n<polyline fill=\"none\" points=\"20.5,-189.5 95.5,-189.5 \" stroke=\"#000000\"/>\n<text fill=\"#000000\" font-family=\"Times,serif\" font-size=\"14.00\" text-anchor=\"middle\" x=\"58\" y=\"-174.3\">Conv2D</text>\n<polyline fill=\"none\" points=\"95.5,-166.5 95.5,-212.5 \" stroke=\"#000000\"/>\n<text fill=\"#000000\" font-family=\"Times,serif\" font-size=\"14.00\" text-anchor=\"middle\" x=\"124.5\" y=\"-197.3\">input:</text>\n<polyline fill=\"none\" points=\"95.5,-189.5 153.5,-189.5 \" stroke=\"#000000\"/>\n<text fill=\"#000000\" font-family=\"Times,serif\" font-size=\"14.00\" text-anchor=\"middle\" x=\"124.5\" y=\"-174.3\">output:</text>\n<polyline fill=\"none\" points=\"153.5,-166.5 153.5,-212.5 \" stroke=\"#000000\"/>\n<text fill=\"#000000\" font-family=\"Times,serif\" font-size=\"14.00\" text-anchor=\"middle\" x=\"219.5\" y=\"-185.8\">(None, 256, 256, 3)</text>\n<polyline fill=\"none\" points=\"285.5,-166.5 285.5,-212.5 \" stroke=\"#000000\"/>\n<text fill=\"#000000\" font-family=\"Times,serif\" font-size=\"14.00\" text-anchor=\"middle\" x=\"359\" y=\"-185.8\">(None, 256, 256, 512)</text>\n</g>\n<!-- 140378156100304&#45;&gt;140378156452624 -->\n<g class=\"edge\" id=\"edge1\">\n<title>140378156100304-&gt;140378156452624</title>\n<path d=\"M226.5,-249.3799C226.5,-241.1745 226.5,-231.7679 226.5,-222.8786\" fill=\"none\" stroke=\"#000000\"/>\n<polygon fill=\"#000000\" points=\"230.0001,-222.784 226.5,-212.784 223.0001,-222.784 230.0001,-222.784\" stroke=\"#000000\"/>\n</g>\n<!-- 140378156450640 -->\n<g class=\"node\" id=\"node3\">\n<title>140378156450640</title>\n<polygon fill=\"none\" points=\"20.5,-83.5 20.5,-129.5 432.5,-129.5 432.5,-83.5 20.5,-83.5\" stroke=\"#000000\"/>\n<text fill=\"#000000\" font-family=\"Times,serif\" font-size=\"14.00\" text-anchor=\"middle\" x=\"58\" y=\"-114.3\">conv2d_3</text>\n<polyline fill=\"none\" points=\"20.5,-106.5 95.5,-106.5 \" stroke=\"#000000\"/>\n<text fill=\"#000000\" font-family=\"Times,serif\" font-size=\"14.00\" text-anchor=\"middle\" x=\"58\" y=\"-91.3\">Conv2D</text>\n<polyline fill=\"none\" points=\"95.5,-83.5 95.5,-129.5 \" stroke=\"#000000\"/>\n<text fill=\"#000000\" font-family=\"Times,serif\" font-size=\"14.00\" text-anchor=\"middle\" x=\"124.5\" y=\"-114.3\">input:</text>\n<polyline fill=\"none\" points=\"95.5,-106.5 153.5,-106.5 \" stroke=\"#000000\"/>\n<text fill=\"#000000\" font-family=\"Times,serif\" font-size=\"14.00\" text-anchor=\"middle\" x=\"124.5\" y=\"-91.3\">output:</text>\n<polyline fill=\"none\" points=\"153.5,-83.5 153.5,-129.5 \" stroke=\"#000000\"/>\n<text fill=\"#000000\" font-family=\"Times,serif\" font-size=\"14.00\" text-anchor=\"middle\" x=\"227\" y=\"-102.8\">(None, 256, 256, 512)</text>\n<polyline fill=\"none\" points=\"300.5,-83.5 300.5,-129.5 \" stroke=\"#000000\"/>\n<text fill=\"#000000\" font-family=\"Times,serif\" font-size=\"14.00\" text-anchor=\"middle\" x=\"366.5\" y=\"-102.8\">(None, 256, 256, 1)</text>\n</g>\n<!-- 140378156452624&#45;&gt;140378156450640 -->\n<g class=\"edge\" id=\"edge2\">\n<title>140378156452624-&gt;140378156450640</title>\n<path d=\"M226.5,-166.3799C226.5,-158.1745 226.5,-148.7679 226.5,-139.8786\" fill=\"none\" stroke=\"#000000\"/>\n<polygon fill=\"#000000\" points=\"230.0001,-139.784 226.5,-129.784 223.0001,-139.784 230.0001,-139.784\" stroke=\"#000000\"/>\n</g>\n<!-- 140378156166032 -->\n<g class=\"node\" id=\"node4\">\n<title>140378156166032</title>\n<polygon fill=\"none\" points=\"24,-.5 24,-46.5 429,-46.5 429,-.5 24,-.5\" stroke=\"#000000\"/>\n<text fill=\"#000000\" font-family=\"Times,serif\" font-size=\"14.00\" text-anchor=\"middle\" x=\"61.5\" y=\"-31.3\">conv2d_4</text>\n<polyline fill=\"none\" points=\"24,-23.5 99,-23.5 \" stroke=\"#000000\"/>\n<text fill=\"#000000\" font-family=\"Times,serif\" font-size=\"14.00\" text-anchor=\"middle\" x=\"61.5\" y=\"-8.3\">Conv2D</text>\n<polyline fill=\"none\" points=\"99,-.5 99,-46.5 \" stroke=\"#000000\"/>\n<text fill=\"#000000\" font-family=\"Times,serif\" font-size=\"14.00\" text-anchor=\"middle\" x=\"128\" y=\"-31.3\">input:</text>\n<polyline fill=\"none\" points=\"99,-23.5 157,-23.5 \" stroke=\"#000000\"/>\n<text fill=\"#000000\" font-family=\"Times,serif\" font-size=\"14.00\" text-anchor=\"middle\" x=\"128\" y=\"-8.3\">output:</text>\n<polyline fill=\"none\" points=\"157,-.5 157,-46.5 \" stroke=\"#000000\"/>\n<text fill=\"#000000\" font-family=\"Times,serif\" font-size=\"14.00\" text-anchor=\"middle\" x=\"223\" y=\"-19.8\">(None, 256, 256, 1)</text>\n<polyline fill=\"none\" points=\"289,-.5 289,-46.5 \" stroke=\"#000000\"/>\n<text fill=\"#000000\" font-family=\"Times,serif\" font-size=\"14.00\" text-anchor=\"middle\" x=\"359\" y=\"-19.8\">(None, 252, 252, 64)</text>\n</g>\n<!-- 140378156450640&#45;&gt;140378156166032 -->\n<g class=\"edge\" id=\"edge3\">\n<title>140378156450640-&gt;140378156166032</title>\n<path d=\"M226.5,-83.3799C226.5,-75.1745 226.5,-65.7679 226.5,-56.8786\" fill=\"none\" stroke=\"#000000\"/>\n<polygon fill=\"#000000\" points=\"230.0001,-56.784 226.5,-46.784 223.0001,-56.784 230.0001,-56.784\" stroke=\"#000000\"/>\n</g>\n</g>\n</svg>"
          },
          "metadata": {},
          "execution_count": 5
        }
      ]
    }
  ]
}