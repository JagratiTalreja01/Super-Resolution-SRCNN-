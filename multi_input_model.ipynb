{
  "nbformat": 4,
  "nbformat_minor": 0,
  "metadata": {
    "colab": {
      "name": "multi_input_model.ipynb",
      "provenance": [],
      "authorship_tag": "ABX9TyP3oDqkiNdNmNMj/mFI7KcH",
      "include_colab_link": true
    },
    "kernelspec": {
      "name": "python3",
      "display_name": "Python 3"
    },
    "language_info": {
      "name": "python"
    }
  },
  "cells": [
    {
      "cell_type": "markdown",
      "metadata": {
        "id": "view-in-github",
        "colab_type": "text"
      },
      "source": [
        "<a href=\"https://colab.research.google.com/github/JagratiTalreja01/Super-Resolution-SRCNN-/blob/main/multi_input_model.ipynb\" target=\"_parent\"><img src=\"https://colab.research.google.com/assets/colab-badge.svg\" alt=\"Open In Colab\"/></a>"
      ]
    },
    {
      "cell_type": "code",
      "source": [
        "pip install plot_model"
      ],
      "metadata": {
        "colab": {
          "base_uri": "https://localhost:8080/"
        },
        "id": "47V3ShGrjGGv",
        "outputId": "1ef85dfe-d91b-4d70-c712-91e76888d27e"
      },
      "execution_count": 3,
      "outputs": [
        {
          "output_type": "stream",
          "name": "stdout",
          "text": [
            "Collecting plot_model\n",
            "  Downloading plot_model-0.20-py3-none-any.whl (6.9 kB)\n",
            "Installing collected packages: plot-model\n",
            "Successfully installed plot-model-0.20\n"
          ]
        }
      ]
    },
    {
      "cell_type": "code",
      "execution_count": 2,
      "metadata": {
        "id": "1SStRBj_ioL5"
      },
      "outputs": [],
      "source": [
        "from keras.layers import Input, Conv2D, Activation, concatenate, Dense\n",
        "from keras.models import Model\n"
      ]
    },
    {
      "cell_type": "code",
      "source": [
        "img_shape = (32,32,1)\n",
        "# head 1\n",
        "img_shape = (32,32,1)\n",
        "input_img1 = Input(shape=(img_shape))\n",
        "C1h1 = Conv2D(64,(9,9),padding='SAME',name='CONV1h1')(input_img1)\n",
        "A1h1 = Activation('relu', name='act1h1')(C1h1)\n",
        "C2h1 = Conv2D(32,(1,1),padding='SAME',name='CONV2h1')(A1h1)\n",
        "A2h1 = Activation('relu', name='act2h1')(C2h1)\n",
        "C3h1 = Conv2D(1,(5,5),padding='SAME',name='CONV3h1')(A2h1)\n",
        "A3h1 = Activation('relu', name='act3h1')(C3h1)\n",
        "# head 2\n",
        "img_shape = (32,32,1)\n",
        "input_img2 = Input(shape=(img_shape))\n",
        "C1h2 = Conv2D(64,(9,9),padding='SAME',name='CONV1h2')(input_img2)\n",
        "A1h2 = Activation('relu', name='act1h2')(C1h2)\n",
        "C2h2 = Conv2D(32,(1,1),padding='SAME',name='CONV2h2')(A1h2)\n",
        "A2h2 = Activation('relu', name='act2h2')(C2h2)\n",
        "C3h2 = Conv2D(1,(5,5),padding='SAME',name='CONV3h2')(A2h2)\n",
        "A3h2 = Activation('relu', name='act3h2')(C3h2)\n",
        "# head 3\n",
        "img_shape = (32,32,1)\n",
        "input_img3 = Input(shape=(img_shape))\n",
        "C1h3 = Conv2D(64,(9,9),padding='SAME',name='CONV1h3')(input_img3)\n",
        "A1h3 = Activation('relu', name='act1h3')(C1h3)\n",
        "C2h3 = Conv2D(32,(1,1),padding='SAME',name='CONV2h3')(A1h3)\n",
        "A2h3 = Activation('relu', name='act2h3')(C2h3)\n",
        "C3h3 = Conv2D(1,(5,5),padding='SAME',name='CONV3h3')(A2h3)\n",
        "A3h3 = Activation('relu', name='act3h3')(C3h3)"
      ],
      "metadata": {
        "id": "S-4ctnltisI3"
      },
      "execution_count": 4,
      "outputs": []
    },
    {
      "cell_type": "code",
      "source": [
        "# merge\n",
        "merged = concatenate([A3h1,A3h2,A3h3])"
      ],
      "metadata": {
        "id": "eqpeVnW7iubm"
      },
      "execution_count": 5,
      "outputs": []
    },
    {
      "cell_type": "code",
      "source": [
        "model = Model(inputs=[input_img1,input_img2,input_img3], outputs=merged)"
      ],
      "metadata": {
        "id": "3cfLafxAivP2"
      },
      "execution_count": 6,
      "outputs": []
    },
    {
      "cell_type": "code",
      "source": [
        "model.summary()"
      ],
      "metadata": {
        "colab": {
          "base_uri": "https://localhost:8080/"
        },
        "id": "nTiUgxdZiyOu",
        "outputId": "7546dff6-3768-4df4-c3f3-c45b85954b97"
      },
      "execution_count": 7,
      "outputs": [
        {
          "output_type": "stream",
          "name": "stdout",
          "text": [
            "Model: \"model\"\n",
            "__________________________________________________________________________________________________\n",
            " Layer (type)                   Output Shape         Param #     Connected to                     \n",
            "==================================================================================================\n",
            " input_1 (InputLayer)           [(None, 32, 32, 1)]  0           []                               \n",
            "                                                                                                  \n",
            " input_2 (InputLayer)           [(None, 32, 32, 1)]  0           []                               \n",
            "                                                                                                  \n",
            " input_3 (InputLayer)           [(None, 32, 32, 1)]  0           []                               \n",
            "                                                                                                  \n",
            " CONV1h1 (Conv2D)               (None, 32, 32, 64)   5248        ['input_1[0][0]']                \n",
            "                                                                                                  \n",
            " CONV1h2 (Conv2D)               (None, 32, 32, 64)   5248        ['input_2[0][0]']                \n",
            "                                                                                                  \n",
            " CONV1h3 (Conv2D)               (None, 32, 32, 64)   5248        ['input_3[0][0]']                \n",
            "                                                                                                  \n",
            " act1h1 (Activation)            (None, 32, 32, 64)   0           ['CONV1h1[0][0]']                \n",
            "                                                                                                  \n",
            " act1h2 (Activation)            (None, 32, 32, 64)   0           ['CONV1h2[0][0]']                \n",
            "                                                                                                  \n",
            " act1h3 (Activation)            (None, 32, 32, 64)   0           ['CONV1h3[0][0]']                \n",
            "                                                                                                  \n",
            " CONV2h1 (Conv2D)               (None, 32, 32, 32)   2080        ['act1h1[0][0]']                 \n",
            "                                                                                                  \n",
            " CONV2h2 (Conv2D)               (None, 32, 32, 32)   2080        ['act1h2[0][0]']                 \n",
            "                                                                                                  \n",
            " CONV2h3 (Conv2D)               (None, 32, 32, 32)   2080        ['act1h3[0][0]']                 \n",
            "                                                                                                  \n",
            " act2h1 (Activation)            (None, 32, 32, 32)   0           ['CONV2h1[0][0]']                \n",
            "                                                                                                  \n",
            " act2h2 (Activation)            (None, 32, 32, 32)   0           ['CONV2h2[0][0]']                \n",
            "                                                                                                  \n",
            " act2h3 (Activation)            (None, 32, 32, 32)   0           ['CONV2h3[0][0]']                \n",
            "                                                                                                  \n",
            " CONV3h1 (Conv2D)               (None, 32, 32, 1)    801         ['act2h1[0][0]']                 \n",
            "                                                                                                  \n",
            " CONV3h2 (Conv2D)               (None, 32, 32, 1)    801         ['act2h2[0][0]']                 \n",
            "                                                                                                  \n",
            " CONV3h3 (Conv2D)               (None, 32, 32, 1)    801         ['act2h3[0][0]']                 \n",
            "                                                                                                  \n",
            " act3h1 (Activation)            (None, 32, 32, 1)    0           ['CONV3h1[0][0]']                \n",
            "                                                                                                  \n",
            " act3h2 (Activation)            (None, 32, 32, 1)    0           ['CONV3h2[0][0]']                \n",
            "                                                                                                  \n",
            " act3h3 (Activation)            (None, 32, 32, 1)    0           ['CONV3h3[0][0]']                \n",
            "                                                                                                  \n",
            " concatenate (Concatenate)      (None, 32, 32, 3)    0           ['act3h1[0][0]',                 \n",
            "                                                                  'act3h2[0][0]',                 \n",
            "                                                                  'act3h3[0][0]']                 \n",
            "                                                                                                  \n",
            "==================================================================================================\n",
            "Total params: 24,387\n",
            "Trainable params: 24,387\n",
            "Non-trainable params: 0\n",
            "__________________________________________________________________________________________________\n"
          ]
        }
      ]
    }
  ]
}