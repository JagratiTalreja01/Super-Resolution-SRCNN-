{
  "nbformat": 4,
  "nbformat_minor": 0,
  "metadata": {
    "colab": {
      "name": "SRCNN_1.ipynb",
      "provenance": [],
      "collapsed_sections": [],
      "mount_file_id": "1tUtJAwcmbQZR1BUOwPSpijsAzaH9RPaz",
      "authorship_tag": "ABX9TyMvaDj/gyL0HuLk4tV63rp7",
      "include_colab_link": true
    },
    "kernelspec": {
      "name": "python3",
      "display_name": "Python 3"
    },
    "language_info": {
      "name": "python"
    }
  },
  "cells": [
    {
      "cell_type": "markdown",
      "metadata": {
        "id": "view-in-github",
        "colab_type": "text"
      },
      "source": [
        "<a href=\"https://colab.research.google.com/github/JagratiTalreja01/Super-Resolution-SRCNN-/blob/main/SRCNN_1.ipynb\" target=\"_parent\"><img src=\"https://colab.research.google.com/assets/colab-badge.svg\" alt=\"Open In Colab\"/></a>"
      ]
    },
    {
      "cell_type": "code",
      "metadata": {
        "id": "WHcjL1X-S16z"
      },
      "source": [
        "import keras\n",
        "from keras.models import Sequential, Model\n",
        "from keras.layers import Conv2D, Activation,Input"
      ],
      "execution_count": 1,
      "outputs": []
    },
    {
      "cell_type": "markdown",
      "metadata": {
        "id": "JI2LDKa3WohQ"
      },
      "source": [
        ""
      ]
    },
    {
      "cell_type": "code",
      "metadata": {
        "colab": {
          "base_uri": "https://localhost:8080/"
        },
        "id": "qpkrcJSkS9cR",
        "outputId": "efc224e3-a9f2-4dec-9cd6-6193a9fcdb2b"
      },
      "source": [
        "img_shape = (32,32,1)\n",
        "input_img = Input(shape=(img_shape))\n",
        "C1 = Conv2D(256,(9,9),padding='SAME',name='CONV1')(input_img)\n",
        "A1 = Activation('relu', name='act1')(C1)\n",
        "C2 = Conv2D(128,(9,9),padding='SAME',name='CONV2')(A1)\n",
        "A2 = Activation('relu', name='act2')(C2)\n",
        "C3 = Conv2D(64,(9,9),padding='SAME',name='CONV3')(A2)\n",
        "A3 = Activation('relu', name='act3')(C3)\n",
        "C4 = Conv2D(32,(5,5),padding='SAME',name='CONV4')(A3)\n",
        "A4 = Activation('relu', name='act4')(C4)\n",
        "C5 = Conv2D(1,(5,5),padding='SAME',name='CONV5')(A4)\n",
        "A5 = Activation('relu', name='act5')(C5)\n",
        "model = Model(input_img, A5)\n",
        "model.summary()"
      ],
      "execution_count": 8,
      "outputs": [
        {
          "output_type": "stream",
          "name": "stdout",
          "text": [
            "Model: \"model_2\"\n",
            "_________________________________________________________________\n",
            "Layer (type)                 Output Shape              Param #   \n",
            "=================================================================\n",
            "input_6 (InputLayer)         [(None, 32, 32, 1)]       0         \n",
            "_________________________________________________________________\n",
            "CONV1 (Conv2D)               (None, 32, 32, 256)       20992     \n",
            "_________________________________________________________________\n",
            "act1 (Activation)            (None, 32, 32, 256)       0         \n",
            "_________________________________________________________________\n",
            "CONV2 (Conv2D)               (None, 32, 32, 128)       2654336   \n",
            "_________________________________________________________________\n",
            "act2 (Activation)            (None, 32, 32, 128)       0         \n",
            "_________________________________________________________________\n",
            "CONV3 (Conv2D)               (None, 32, 32, 64)        663616    \n",
            "_________________________________________________________________\n",
            "act3 (Activation)            (None, 32, 32, 64)        0         \n",
            "_________________________________________________________________\n",
            "CONV4 (Conv2D)               (None, 32, 32, 32)        51232     \n",
            "_________________________________________________________________\n",
            "act4 (Activation)            (None, 32, 32, 32)        0         \n",
            "_________________________________________________________________\n",
            "CONV5 (Conv2D)               (None, 32, 32, 1)         801       \n",
            "_________________________________________________________________\n",
            "act5 (Activation)            (None, 32, 32, 1)         0         \n",
            "=================================================================\n",
            "Total params: 3,390,977\n",
            "Trainable params: 3,390,977\n",
            "Non-trainable params: 0\n",
            "_________________________________________________________________\n"
          ]
        }
      ]
    }
  ]
}