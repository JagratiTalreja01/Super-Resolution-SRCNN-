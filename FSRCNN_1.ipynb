{
  "nbformat": 4,
  "nbformat_minor": 0,
  "metadata": {
    "colab": {
      "name": "FSRCNN_1.ipynb",
      "provenance": [],
      "collapsed_sections": [],
      "authorship_tag": "ABX9TyOKnl+hbActcaml9MzpNJXK",
      "include_colab_link": true
    },
    "kernelspec": {
      "name": "python3",
      "display_name": "Python 3"
    },
    "language_info": {
      "name": "python"
    }
  },
  "cells": [
    {
      "cell_type": "markdown",
      "metadata": {
        "id": "view-in-github",
        "colab_type": "text"
      },
      "source": [
        "<a href=\"https://colab.research.google.com/github/JagratiTalreja01/Super-Resolution-SRCNN-/blob/main/FSRCNN_1.ipynb\" target=\"_parent\"><img src=\"https://colab.research.google.com/assets/colab-badge.svg\" alt=\"Open In Colab\"/></a>"
      ]
    },
    {
      "cell_type": "code",
      "metadata": {
        "id": "ltb_1XjLhkJh"
      },
      "source": [
        "import os\n",
        "import cv2\n",
        "import h5py\n",
        "import numpy\n",
        "from PIL import Image\n",
        "from keras.models import Model\n",
        "import matplotlib.pyplot as plt\n",
        "from keras.layers import Conv2D, Input, Conv2DTranspose, Activation"
      ],
      "execution_count": 3,
      "outputs": []
    },
    {
      "cell_type": "code",
      "metadata": {
        "colab": {
          "base_uri": "https://localhost:8080/"
        },
        "id": "kFJpJs6ohvau",
        "outputId": "6245fe5e-7223-4d2f-888b-88d92f36aaf7"
      },
      "source": [
        "_input = Input(shape=(None, None, 1), name='input')\n",
        "C1 = Conv2D(56,(5,5),padding='same', activation='relu')(_input)\n",
        "C2 = Conv2D(12,(1,1),padding='same', activation='relu')(C1)\n",
        "C3 = Conv2D(12,(3,3),padding='same', activation='relu')(C2)\n",
        "C4 = Conv2D(12,(3,3),padding='same', activation='relu')(C3)\n",
        "C5 = Conv2D(12,(3,3),padding='same', activation='relu')(C4)\n",
        "C6 = Conv2D(12,(3,3),padding='same', activation='relu')(C5)\n",
        "C7 = Conv2D(56,(1,1), padding='same', activation='relu')(C6)\n",
        "C8 = Conv2D(12,(5,5),padding='same', activation='relu')(C7)\n",
        "C9 = Conv2D(56,(3,3),padding='same', activation='relu')(C8)\n",
        "C10 = Conv2D(56,(1,1),padding='same', activation='relu')(C9)\n",
        "D1 = Conv2DTranspose(1,(9,9), strides=(2,2),padding='same', activation='relu')(C10)\n",
        "model = Model(inputs=_input, outputs=D1)\n",
        "model.summary()"
      ],
      "execution_count": 10,
      "outputs": [
        {
          "output_type": "stream",
          "name": "stdout",
          "text": [
            "Model: \"model_2\"\n",
            "_________________________________________________________________\n",
            "Layer (type)                 Output Shape              Param #   \n",
            "=================================================================\n",
            "input (InputLayer)           [(None, None, None, 1)]   0         \n",
            "_________________________________________________________________\n",
            "conv2d_50 (Conv2D)           (None, None, None, 56)    1456      \n",
            "_________________________________________________________________\n",
            "conv2d_51 (Conv2D)           (None, None, None, 12)    684       \n",
            "_________________________________________________________________\n",
            "conv2d_52 (Conv2D)           (None, None, None, 12)    1308      \n",
            "_________________________________________________________________\n",
            "conv2d_53 (Conv2D)           (None, None, None, 12)    1308      \n",
            "_________________________________________________________________\n",
            "conv2d_54 (Conv2D)           (None, None, None, 12)    1308      \n",
            "_________________________________________________________________\n",
            "conv2d_55 (Conv2D)           (None, None, None, 12)    1308      \n",
            "_________________________________________________________________\n",
            "conv2d_56 (Conv2D)           (None, None, None, 56)    728       \n",
            "_________________________________________________________________\n",
            "conv2d_57 (Conv2D)           (None, None, None, 12)    16812     \n",
            "_________________________________________________________________\n",
            "conv2d_58 (Conv2D)           (None, None, None, 56)    6104      \n",
            "_________________________________________________________________\n",
            "conv2d_59 (Conv2D)           (None, None, None, 56)    3192      \n",
            "_________________________________________________________________\n",
            "conv2d_transpose_6 (Conv2DTr (None, None, None, 1)     4537      \n",
            "=================================================================\n",
            "Total params: 38,745\n",
            "Trainable params: 38,745\n",
            "Non-trainable params: 0\n",
            "_________________________________________________________________\n"
          ]
        }
      ]
    },
    {
      "cell_type": "code",
      "metadata": {
        "colab": {
          "base_uri": "https://localhost:8080/",
          "height": 1000
        },
        "id": "OGUFBvsOkWF8",
        "outputId": "a1bad4f4-b662-4008-fc1d-86fb2208f5c8"
      },
      "source": [
        "from IPython.display import SVG\n",
        "from keras.utils.vis_utils import model_to_dot\n",
        "SVG(model_to_dot(model, show_shapes=True).create(prog='dot', format='svg'))"
      ],
      "execution_count": 12,
      "outputs": [
        {
          "output_type": "execute_result",
          "data": {
            "text/plain": [
              "<IPython.core.display.SVG object>"
            ],
            "image/svg+xml": "<svg height=\"1291pt\" viewBox=\"0.00 0.00 475.00 968.00\" width=\"633pt\" xmlns=\"http://www.w3.org/2000/svg\" xmlns:xlink=\"http://www.w3.org/1999/xlink\">\n<g class=\"graph\" id=\"graph0\" transform=\"scale(1.3333 1.3333) rotate(0) translate(4 964)\">\n<title>G</title>\n<polygon fill=\"#ffffff\" points=\"-4,4 -4,-964 471,-964 471,4 -4,4\" stroke=\"transparent\"/>\n<!-- 139977546822096 -->\n<g class=\"node\" id=\"node1\">\n<title>139977546822096</title>\n<polygon fill=\"none\" points=\"66,-913.5 66,-959.5 401,-959.5 401,-913.5 66,-913.5\" stroke=\"#000000\"/>\n<text fill=\"#000000\" font-family=\"Times,serif\" font-size=\"14.00\" text-anchor=\"middle\" x=\"125\" y=\"-932.8\">input: InputLayer</text>\n<polyline fill=\"none\" points=\"184,-913.5 184,-959.5 \" stroke=\"#000000\"/>\n<text fill=\"#000000\" font-family=\"Times,serif\" font-size=\"14.00\" text-anchor=\"middle\" x=\"213\" y=\"-944.3\">input:</text>\n<polyline fill=\"none\" points=\"184,-936.5 242,-936.5 \" stroke=\"#000000\"/>\n<text fill=\"#000000\" font-family=\"Times,serif\" font-size=\"14.00\" text-anchor=\"middle\" x=\"213\" y=\"-921.3\">output:</text>\n<polyline fill=\"none\" points=\"242,-913.5 242,-959.5 \" stroke=\"#000000\"/>\n<text fill=\"#000000\" font-family=\"Times,serif\" font-size=\"14.00\" text-anchor=\"middle\" x=\"321.5\" y=\"-944.3\">[(None, None, None, 1)]</text>\n<polyline fill=\"none\" points=\"242,-936.5 401,-936.5 \" stroke=\"#000000\"/>\n<text fill=\"#000000\" font-family=\"Times,serif\" font-size=\"14.00\" text-anchor=\"middle\" x=\"321.5\" y=\"-921.3\">[(None, None, None, 1)]</text>\n</g>\n<!-- 139977546824464 -->\n<g class=\"node\" id=\"node2\">\n<title>139977546824464</title>\n<polygon fill=\"none\" points=\"55.5,-830.5 55.5,-876.5 411.5,-876.5 411.5,-830.5 55.5,-830.5\" stroke=\"#000000\"/>\n<text fill=\"#000000\" font-family=\"Times,serif\" font-size=\"14.00\" text-anchor=\"middle\" x=\"125.5\" y=\"-849.8\">conv2d_50: Conv2D</text>\n<polyline fill=\"none\" points=\"195.5,-830.5 195.5,-876.5 \" stroke=\"#000000\"/>\n<text fill=\"#000000\" font-family=\"Times,serif\" font-size=\"14.00\" text-anchor=\"middle\" x=\"224.5\" y=\"-861.3\">input:</text>\n<polyline fill=\"none\" points=\"195.5,-853.5 253.5,-853.5 \" stroke=\"#000000\"/>\n<text fill=\"#000000\" font-family=\"Times,serif\" font-size=\"14.00\" text-anchor=\"middle\" x=\"224.5\" y=\"-838.3\">output:</text>\n<polyline fill=\"none\" points=\"253.5,-830.5 253.5,-876.5 \" stroke=\"#000000\"/>\n<text fill=\"#000000\" font-family=\"Times,serif\" font-size=\"14.00\" text-anchor=\"middle\" x=\"332.5\" y=\"-861.3\">(None, None, None, 1)</text>\n<polyline fill=\"none\" points=\"253.5,-853.5 411.5,-853.5 \" stroke=\"#000000\"/>\n<text fill=\"#000000\" font-family=\"Times,serif\" font-size=\"14.00\" text-anchor=\"middle\" x=\"332.5\" y=\"-838.3\">(None, None, None, 56)</text>\n</g>\n<!-- 139977546822096&#45;&gt;139977546824464 -->\n<g class=\"edge\" id=\"edge1\">\n<title>139977546822096-&gt;139977546824464</title>\n<path d=\"M233.5,-913.3799C233.5,-905.1745 233.5,-895.7679 233.5,-886.8786\" fill=\"none\" stroke=\"#000000\"/>\n<polygon fill=\"#000000\" points=\"237.0001,-886.784 233.5,-876.784 230.0001,-886.784 237.0001,-886.784\" stroke=\"#000000\"/>\n</g>\n<!-- 139977546442640 -->\n<g class=\"node\" id=\"node3\">\n<title>139977546442640</title>\n<polygon fill=\"none\" points=\"55.5,-747.5 55.5,-793.5 411.5,-793.5 411.5,-747.5 55.5,-747.5\" stroke=\"#000000\"/>\n<text fill=\"#000000\" font-family=\"Times,serif\" font-size=\"14.00\" text-anchor=\"middle\" x=\"125.5\" y=\"-766.8\">conv2d_51: Conv2D</text>\n<polyline fill=\"none\" points=\"195.5,-747.5 195.5,-793.5 \" stroke=\"#000000\"/>\n<text fill=\"#000000\" font-family=\"Times,serif\" font-size=\"14.00\" text-anchor=\"middle\" x=\"224.5\" y=\"-778.3\">input:</text>\n<polyline fill=\"none\" points=\"195.5,-770.5 253.5,-770.5 \" stroke=\"#000000\"/>\n<text fill=\"#000000\" font-family=\"Times,serif\" font-size=\"14.00\" text-anchor=\"middle\" x=\"224.5\" y=\"-755.3\">output:</text>\n<polyline fill=\"none\" points=\"253.5,-747.5 253.5,-793.5 \" stroke=\"#000000\"/>\n<text fill=\"#000000\" font-family=\"Times,serif\" font-size=\"14.00\" text-anchor=\"middle\" x=\"332.5\" y=\"-778.3\">(None, None, None, 56)</text>\n<polyline fill=\"none\" points=\"253.5,-770.5 411.5,-770.5 \" stroke=\"#000000\"/>\n<text fill=\"#000000\" font-family=\"Times,serif\" font-size=\"14.00\" text-anchor=\"middle\" x=\"332.5\" y=\"-755.3\">(None, None, None, 12)</text>\n</g>\n<!-- 139977546824464&#45;&gt;139977546442640 -->\n<g class=\"edge\" id=\"edge2\">\n<title>139977546824464-&gt;139977546442640</title>\n<path d=\"M233.5,-830.3799C233.5,-822.1745 233.5,-812.7679 233.5,-803.8786\" fill=\"none\" stroke=\"#000000\"/>\n<polygon fill=\"#000000\" points=\"237.0001,-803.784 233.5,-793.784 230.0001,-803.784 237.0001,-803.784\" stroke=\"#000000\"/>\n</g>\n<!-- 139977545947664 -->\n<g class=\"node\" id=\"node4\">\n<title>139977545947664</title>\n<polygon fill=\"none\" points=\"55.5,-664.5 55.5,-710.5 411.5,-710.5 411.5,-664.5 55.5,-664.5\" stroke=\"#000000\"/>\n<text fill=\"#000000\" font-family=\"Times,serif\" font-size=\"14.00\" text-anchor=\"middle\" x=\"125.5\" y=\"-683.8\">conv2d_52: Conv2D</text>\n<polyline fill=\"none\" points=\"195.5,-664.5 195.5,-710.5 \" stroke=\"#000000\"/>\n<text fill=\"#000000\" font-family=\"Times,serif\" font-size=\"14.00\" text-anchor=\"middle\" x=\"224.5\" y=\"-695.3\">input:</text>\n<polyline fill=\"none\" points=\"195.5,-687.5 253.5,-687.5 \" stroke=\"#000000\"/>\n<text fill=\"#000000\" font-family=\"Times,serif\" font-size=\"14.00\" text-anchor=\"middle\" x=\"224.5\" y=\"-672.3\">output:</text>\n<polyline fill=\"none\" points=\"253.5,-664.5 253.5,-710.5 \" stroke=\"#000000\"/>\n<text fill=\"#000000\" font-family=\"Times,serif\" font-size=\"14.00\" text-anchor=\"middle\" x=\"332.5\" y=\"-695.3\">(None, None, None, 12)</text>\n<polyline fill=\"none\" points=\"253.5,-687.5 411.5,-687.5 \" stroke=\"#000000\"/>\n<text fill=\"#000000\" font-family=\"Times,serif\" font-size=\"14.00\" text-anchor=\"middle\" x=\"332.5\" y=\"-672.3\">(None, None, None, 12)</text>\n</g>\n<!-- 139977546442640&#45;&gt;139977545947664 -->\n<g class=\"edge\" id=\"edge3\">\n<title>139977546442640-&gt;139977545947664</title>\n<path d=\"M233.5,-747.3799C233.5,-739.1745 233.5,-729.7679 233.5,-720.8786\" fill=\"none\" stroke=\"#000000\"/>\n<polygon fill=\"#000000\" points=\"237.0001,-720.784 233.5,-710.784 230.0001,-720.784 237.0001,-720.784\" stroke=\"#000000\"/>\n</g>\n<!-- 139977545790736 -->\n<g class=\"node\" id=\"node5\">\n<title>139977545790736</title>\n<polygon fill=\"none\" points=\"55.5,-581.5 55.5,-627.5 411.5,-627.5 411.5,-581.5 55.5,-581.5\" stroke=\"#000000\"/>\n<text fill=\"#000000\" font-family=\"Times,serif\" font-size=\"14.00\" text-anchor=\"middle\" x=\"125.5\" y=\"-600.8\">conv2d_53: Conv2D</text>\n<polyline fill=\"none\" points=\"195.5,-581.5 195.5,-627.5 \" stroke=\"#000000\"/>\n<text fill=\"#000000\" font-family=\"Times,serif\" font-size=\"14.00\" text-anchor=\"middle\" x=\"224.5\" y=\"-612.3\">input:</text>\n<polyline fill=\"none\" points=\"195.5,-604.5 253.5,-604.5 \" stroke=\"#000000\"/>\n<text fill=\"#000000\" font-family=\"Times,serif\" font-size=\"14.00\" text-anchor=\"middle\" x=\"224.5\" y=\"-589.3\">output:</text>\n<polyline fill=\"none\" points=\"253.5,-581.5 253.5,-627.5 \" stroke=\"#000000\"/>\n<text fill=\"#000000\" font-family=\"Times,serif\" font-size=\"14.00\" text-anchor=\"middle\" x=\"332.5\" y=\"-612.3\">(None, None, None, 12)</text>\n<polyline fill=\"none\" points=\"253.5,-604.5 411.5,-604.5 \" stroke=\"#000000\"/>\n<text fill=\"#000000\" font-family=\"Times,serif\" font-size=\"14.00\" text-anchor=\"middle\" x=\"332.5\" y=\"-589.3\">(None, None, None, 12)</text>\n</g>\n<!-- 139977545947664&#45;&gt;139977545790736 -->\n<g class=\"edge\" id=\"edge4\">\n<title>139977545947664-&gt;139977545790736</title>\n<path d=\"M233.5,-664.3799C233.5,-656.1745 233.5,-646.7679 233.5,-637.8786\" fill=\"none\" stroke=\"#000000\"/>\n<polygon fill=\"#000000\" points=\"237.0001,-637.784 233.5,-627.784 230.0001,-637.784 237.0001,-637.784\" stroke=\"#000000\"/>\n</g>\n<!-- 139977545792144 -->\n<g class=\"node\" id=\"node6\">\n<title>139977545792144</title>\n<polygon fill=\"none\" points=\"55.5,-498.5 55.5,-544.5 411.5,-544.5 411.5,-498.5 55.5,-498.5\" stroke=\"#000000\"/>\n<text fill=\"#000000\" font-family=\"Times,serif\" font-size=\"14.00\" text-anchor=\"middle\" x=\"125.5\" y=\"-517.8\">conv2d_54: Conv2D</text>\n<polyline fill=\"none\" points=\"195.5,-498.5 195.5,-544.5 \" stroke=\"#000000\"/>\n<text fill=\"#000000\" font-family=\"Times,serif\" font-size=\"14.00\" text-anchor=\"middle\" x=\"224.5\" y=\"-529.3\">input:</text>\n<polyline fill=\"none\" points=\"195.5,-521.5 253.5,-521.5 \" stroke=\"#000000\"/>\n<text fill=\"#000000\" font-family=\"Times,serif\" font-size=\"14.00\" text-anchor=\"middle\" x=\"224.5\" y=\"-506.3\">output:</text>\n<polyline fill=\"none\" points=\"253.5,-498.5 253.5,-544.5 \" stroke=\"#000000\"/>\n<text fill=\"#000000\" font-family=\"Times,serif\" font-size=\"14.00\" text-anchor=\"middle\" x=\"332.5\" y=\"-529.3\">(None, None, None, 12)</text>\n<polyline fill=\"none\" points=\"253.5,-521.5 411.5,-521.5 \" stroke=\"#000000\"/>\n<text fill=\"#000000\" font-family=\"Times,serif\" font-size=\"14.00\" text-anchor=\"middle\" x=\"332.5\" y=\"-506.3\">(None, None, None, 12)</text>\n</g>\n<!-- 139977545790736&#45;&gt;139977545792144 -->\n<g class=\"edge\" id=\"edge5\">\n<title>139977545790736-&gt;139977545792144</title>\n<path d=\"M233.5,-581.3799C233.5,-573.1745 233.5,-563.7679 233.5,-554.8786\" fill=\"none\" stroke=\"#000000\"/>\n<polygon fill=\"#000000\" points=\"237.0001,-554.784 233.5,-544.784 230.0001,-554.784 237.0001,-554.784\" stroke=\"#000000\"/>\n</g>\n<!-- 139977545663312 -->\n<g class=\"node\" id=\"node7\">\n<title>139977545663312</title>\n<polygon fill=\"none\" points=\"55.5,-415.5 55.5,-461.5 411.5,-461.5 411.5,-415.5 55.5,-415.5\" stroke=\"#000000\"/>\n<text fill=\"#000000\" font-family=\"Times,serif\" font-size=\"14.00\" text-anchor=\"middle\" x=\"125.5\" y=\"-434.8\">conv2d_55: Conv2D</text>\n<polyline fill=\"none\" points=\"195.5,-415.5 195.5,-461.5 \" stroke=\"#000000\"/>\n<text fill=\"#000000\" font-family=\"Times,serif\" font-size=\"14.00\" text-anchor=\"middle\" x=\"224.5\" y=\"-446.3\">input:</text>\n<polyline fill=\"none\" points=\"195.5,-438.5 253.5,-438.5 \" stroke=\"#000000\"/>\n<text fill=\"#000000\" font-family=\"Times,serif\" font-size=\"14.00\" text-anchor=\"middle\" x=\"224.5\" y=\"-423.3\">output:</text>\n<polyline fill=\"none\" points=\"253.5,-415.5 253.5,-461.5 \" stroke=\"#000000\"/>\n<text fill=\"#000000\" font-family=\"Times,serif\" font-size=\"14.00\" text-anchor=\"middle\" x=\"332.5\" y=\"-446.3\">(None, None, None, 12)</text>\n<polyline fill=\"none\" points=\"253.5,-438.5 411.5,-438.5 \" stroke=\"#000000\"/>\n<text fill=\"#000000\" font-family=\"Times,serif\" font-size=\"14.00\" text-anchor=\"middle\" x=\"332.5\" y=\"-423.3\">(None, None, None, 12)</text>\n</g>\n<!-- 139977545792144&#45;&gt;139977545663312 -->\n<g class=\"edge\" id=\"edge6\">\n<title>139977545792144-&gt;139977545663312</title>\n<path d=\"M233.5,-498.3799C233.5,-490.1745 233.5,-480.7679 233.5,-471.8786\" fill=\"none\" stroke=\"#000000\"/>\n<polygon fill=\"#000000\" points=\"237.0001,-471.784 233.5,-461.784 230.0001,-471.784 237.0001,-471.784\" stroke=\"#000000\"/>\n</g>\n<!-- 139977545709520 -->\n<g class=\"node\" id=\"node8\">\n<title>139977545709520</title>\n<polygon fill=\"none\" points=\"55.5,-332.5 55.5,-378.5 411.5,-378.5 411.5,-332.5 55.5,-332.5\" stroke=\"#000000\"/>\n<text fill=\"#000000\" font-family=\"Times,serif\" font-size=\"14.00\" text-anchor=\"middle\" x=\"125.5\" y=\"-351.8\">conv2d_56: Conv2D</text>\n<polyline fill=\"none\" points=\"195.5,-332.5 195.5,-378.5 \" stroke=\"#000000\"/>\n<text fill=\"#000000\" font-family=\"Times,serif\" font-size=\"14.00\" text-anchor=\"middle\" x=\"224.5\" y=\"-363.3\">input:</text>\n<polyline fill=\"none\" points=\"195.5,-355.5 253.5,-355.5 \" stroke=\"#000000\"/>\n<text fill=\"#000000\" font-family=\"Times,serif\" font-size=\"14.00\" text-anchor=\"middle\" x=\"224.5\" y=\"-340.3\">output:</text>\n<polyline fill=\"none\" points=\"253.5,-332.5 253.5,-378.5 \" stroke=\"#000000\"/>\n<text fill=\"#000000\" font-family=\"Times,serif\" font-size=\"14.00\" text-anchor=\"middle\" x=\"332.5\" y=\"-363.3\">(None, None, None, 12)</text>\n<polyline fill=\"none\" points=\"253.5,-355.5 411.5,-355.5 \" stroke=\"#000000\"/>\n<text fill=\"#000000\" font-family=\"Times,serif\" font-size=\"14.00\" text-anchor=\"middle\" x=\"332.5\" y=\"-340.3\">(None, None, None, 56)</text>\n</g>\n<!-- 139977545663312&#45;&gt;139977545709520 -->\n<g class=\"edge\" id=\"edge7\">\n<title>139977545663312-&gt;139977545709520</title>\n<path d=\"M233.5,-415.3799C233.5,-407.1745 233.5,-397.7679 233.5,-388.8786\" fill=\"none\" stroke=\"#000000\"/>\n<polygon fill=\"#000000\" points=\"237.0001,-388.784 233.5,-378.784 230.0001,-388.784 237.0001,-388.784\" stroke=\"#000000\"/>\n</g>\n<!-- 139977545783376 -->\n<g class=\"node\" id=\"node9\">\n<title>139977545783376</title>\n<polygon fill=\"none\" points=\"55.5,-249.5 55.5,-295.5 411.5,-295.5 411.5,-249.5 55.5,-249.5\" stroke=\"#000000\"/>\n<text fill=\"#000000\" font-family=\"Times,serif\" font-size=\"14.00\" text-anchor=\"middle\" x=\"125.5\" y=\"-268.8\">conv2d_57: Conv2D</text>\n<polyline fill=\"none\" points=\"195.5,-249.5 195.5,-295.5 \" stroke=\"#000000\"/>\n<text fill=\"#000000\" font-family=\"Times,serif\" font-size=\"14.00\" text-anchor=\"middle\" x=\"224.5\" y=\"-280.3\">input:</text>\n<polyline fill=\"none\" points=\"195.5,-272.5 253.5,-272.5 \" stroke=\"#000000\"/>\n<text fill=\"#000000\" font-family=\"Times,serif\" font-size=\"14.00\" text-anchor=\"middle\" x=\"224.5\" y=\"-257.3\">output:</text>\n<polyline fill=\"none\" points=\"253.5,-249.5 253.5,-295.5 \" stroke=\"#000000\"/>\n<text fill=\"#000000\" font-family=\"Times,serif\" font-size=\"14.00\" text-anchor=\"middle\" x=\"332.5\" y=\"-280.3\">(None, None, None, 56)</text>\n<polyline fill=\"none\" points=\"253.5,-272.5 411.5,-272.5 \" stroke=\"#000000\"/>\n<text fill=\"#000000\" font-family=\"Times,serif\" font-size=\"14.00\" text-anchor=\"middle\" x=\"332.5\" y=\"-257.3\">(None, None, None, 12)</text>\n</g>\n<!-- 139977545709520&#45;&gt;139977545783376 -->\n<g class=\"edge\" id=\"edge8\">\n<title>139977545709520-&gt;139977545783376</title>\n<path d=\"M233.5,-332.3799C233.5,-324.1745 233.5,-314.7679 233.5,-305.8786\" fill=\"none\" stroke=\"#000000\"/>\n<polygon fill=\"#000000\" points=\"237.0001,-305.784 233.5,-295.784 230.0001,-305.784 237.0001,-305.784\" stroke=\"#000000\"/>\n</g>\n<!-- 139977545796816 -->\n<g class=\"node\" id=\"node10\">\n<title>139977545796816</title>\n<polygon fill=\"none\" points=\"55.5,-166.5 55.5,-212.5 411.5,-212.5 411.5,-166.5 55.5,-166.5\" stroke=\"#000000\"/>\n<text fill=\"#000000\" font-family=\"Times,serif\" font-size=\"14.00\" text-anchor=\"middle\" x=\"125.5\" y=\"-185.8\">conv2d_58: Conv2D</text>\n<polyline fill=\"none\" points=\"195.5,-166.5 195.5,-212.5 \" stroke=\"#000000\"/>\n<text fill=\"#000000\" font-family=\"Times,serif\" font-size=\"14.00\" text-anchor=\"middle\" x=\"224.5\" y=\"-197.3\">input:</text>\n<polyline fill=\"none\" points=\"195.5,-189.5 253.5,-189.5 \" stroke=\"#000000\"/>\n<text fill=\"#000000\" font-family=\"Times,serif\" font-size=\"14.00\" text-anchor=\"middle\" x=\"224.5\" y=\"-174.3\">output:</text>\n<polyline fill=\"none\" points=\"253.5,-166.5 253.5,-212.5 \" stroke=\"#000000\"/>\n<text fill=\"#000000\" font-family=\"Times,serif\" font-size=\"14.00\" text-anchor=\"middle\" x=\"332.5\" y=\"-197.3\">(None, None, None, 12)</text>\n<polyline fill=\"none\" points=\"253.5,-189.5 411.5,-189.5 \" stroke=\"#000000\"/>\n<text fill=\"#000000\" font-family=\"Times,serif\" font-size=\"14.00\" text-anchor=\"middle\" x=\"332.5\" y=\"-174.3\">(None, None, None, 56)</text>\n</g>\n<!-- 139977545783376&#45;&gt;139977545796816 -->\n<g class=\"edge\" id=\"edge9\">\n<title>139977545783376-&gt;139977545796816</title>\n<path d=\"M233.5,-249.3799C233.5,-241.1745 233.5,-231.7679 233.5,-222.8786\" fill=\"none\" stroke=\"#000000\"/>\n<polygon fill=\"#000000\" points=\"237.0001,-222.784 233.5,-212.784 230.0001,-222.784 237.0001,-222.784\" stroke=\"#000000\"/>\n</g>\n<!-- 139977545691920 -->\n<g class=\"node\" id=\"node11\">\n<title>139977545691920</title>\n<polygon fill=\"none\" points=\"55.5,-83.5 55.5,-129.5 411.5,-129.5 411.5,-83.5 55.5,-83.5\" stroke=\"#000000\"/>\n<text fill=\"#000000\" font-family=\"Times,serif\" font-size=\"14.00\" text-anchor=\"middle\" x=\"125.5\" y=\"-102.8\">conv2d_59: Conv2D</text>\n<polyline fill=\"none\" points=\"195.5,-83.5 195.5,-129.5 \" stroke=\"#000000\"/>\n<text fill=\"#000000\" font-family=\"Times,serif\" font-size=\"14.00\" text-anchor=\"middle\" x=\"224.5\" y=\"-114.3\">input:</text>\n<polyline fill=\"none\" points=\"195.5,-106.5 253.5,-106.5 \" stroke=\"#000000\"/>\n<text fill=\"#000000\" font-family=\"Times,serif\" font-size=\"14.00\" text-anchor=\"middle\" x=\"224.5\" y=\"-91.3\">output:</text>\n<polyline fill=\"none\" points=\"253.5,-83.5 253.5,-129.5 \" stroke=\"#000000\"/>\n<text fill=\"#000000\" font-family=\"Times,serif\" font-size=\"14.00\" text-anchor=\"middle\" x=\"332.5\" y=\"-114.3\">(None, None, None, 56)</text>\n<polyline fill=\"none\" points=\"253.5,-106.5 411.5,-106.5 \" stroke=\"#000000\"/>\n<text fill=\"#000000\" font-family=\"Times,serif\" font-size=\"14.00\" text-anchor=\"middle\" x=\"332.5\" y=\"-91.3\">(None, None, None, 56)</text>\n</g>\n<!-- 139977545796816&#45;&gt;139977545691920 -->\n<g class=\"edge\" id=\"edge10\">\n<title>139977545796816-&gt;139977545691920</title>\n<path d=\"M233.5,-166.3799C233.5,-158.1745 233.5,-148.7679 233.5,-139.8786\" fill=\"none\" stroke=\"#000000\"/>\n<polygon fill=\"#000000\" points=\"237.0001,-139.784 233.5,-129.784 230.0001,-139.784 237.0001,-139.784\" stroke=\"#000000\"/>\n</g>\n<!-- 139977545294096 -->\n<g class=\"node\" id=\"node12\">\n<title>139977545294096</title>\n<polygon fill=\"none\" points=\"0,-.5 0,-46.5 467,-46.5 467,-.5 0,-.5\" stroke=\"#000000\"/>\n<text fill=\"#000000\" font-family=\"Times,serif\" font-size=\"14.00\" text-anchor=\"middle\" x=\"125.5\" y=\"-19.8\">conv2d_transpose_6: Conv2DTranspose</text>\n<polyline fill=\"none\" points=\"251,-.5 251,-46.5 \" stroke=\"#000000\"/>\n<text fill=\"#000000\" font-family=\"Times,serif\" font-size=\"14.00\" text-anchor=\"middle\" x=\"280\" y=\"-31.3\">input:</text>\n<polyline fill=\"none\" points=\"251,-23.5 309,-23.5 \" stroke=\"#000000\"/>\n<text fill=\"#000000\" font-family=\"Times,serif\" font-size=\"14.00\" text-anchor=\"middle\" x=\"280\" y=\"-8.3\">output:</text>\n<polyline fill=\"none\" points=\"309,-.5 309,-46.5 \" stroke=\"#000000\"/>\n<text fill=\"#000000\" font-family=\"Times,serif\" font-size=\"14.00\" text-anchor=\"middle\" x=\"388\" y=\"-31.3\">(None, None, None, 56)</text>\n<polyline fill=\"none\" points=\"309,-23.5 467,-23.5 \" stroke=\"#000000\"/>\n<text fill=\"#000000\" font-family=\"Times,serif\" font-size=\"14.00\" text-anchor=\"middle\" x=\"388\" y=\"-8.3\">(None, None, None, 1)</text>\n</g>\n<!-- 139977545691920&#45;&gt;139977545294096 -->\n<g class=\"edge\" id=\"edge11\">\n<title>139977545691920-&gt;139977545294096</title>\n<path d=\"M233.5,-83.3799C233.5,-75.1745 233.5,-65.7679 233.5,-56.8786\" fill=\"none\" stroke=\"#000000\"/>\n<polygon fill=\"#000000\" points=\"237.0001,-56.784 233.5,-46.784 230.0001,-56.784 237.0001,-56.784\" stroke=\"#000000\"/>\n</g>\n</g>\n</svg>"
          },
          "metadata": {},
          "execution_count": 12
        }
      ]
    }
  ]
}