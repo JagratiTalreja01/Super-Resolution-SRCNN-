{
  "nbformat": 4,
  "nbformat_minor": 0,
  "metadata": {
    "colab": {
      "name": "ESPCN_1.ipynb",
      "provenance": [],
      "collapsed_sections": [],
      "authorship_tag": "ABX9TyMdor1KFhRSDZk9zBu2MXVG",
      "include_colab_link": true
    },
    "kernelspec": {
      "name": "python3",
      "display_name": "Python 3"
    },
    "language_info": {
      "name": "python"
    }
  },
  "cells": [
    {
      "cell_type": "markdown",
      "metadata": {
        "id": "view-in-github",
        "colab_type": "text"
      },
      "source": [
        "<a href=\"https://colab.research.google.com/github/JagratiTalreja01/Super-Resolution-SRCNN-/blob/main/ESPCN_1.ipynb\" target=\"_parent\"><img src=\"https://colab.research.google.com/assets/colab-badge.svg\" alt=\"Open In Colab\"/></a>"
      ]
    },
    {
      "cell_type": "markdown",
      "metadata": {
        "id": "fMHfqjjhtt65"
      },
      "source": [
        "Requirements"
      ]
    },
    {
      "cell_type": "code",
      "metadata": {
        "colab": {
          "base_uri": "https://localhost:8080/"
        },
        "id": "sUxxboCWqBC8",
        "outputId": "45377cc6-4a0a-4ab2-d48c-47fc5530a4b5"
      },
      "source": [
        "!pip install opencv-python"
      ],
      "execution_count": 33,
      "outputs": [
        {
          "output_type": "stream",
          "name": "stdout",
          "text": [
            "Requirement already satisfied: opencv-python in /usr/local/lib/python3.7/dist-packages (4.1.2.30)\n",
            "Requirement already satisfied: numpy>=1.14.5 in /usr/local/lib/python3.7/dist-packages (from opencv-python) (1.19.5)\n"
          ]
        }
      ]
    },
    {
      "cell_type": "code",
      "metadata": {
        "id": "L-fMqQ17p4NW"
      },
      "source": [
        "import tensorflow as tf\n",
        "import tarfile\n",
        "import datetime\n",
        "import cv2\n",
        "import numpy as np\n",
        "import matplotlib.pyplot as plt\n",
        "from tensorflow.python.keras.layers import Conv2D, Input, Lambda, Activation\n",
        "from tensorflow.python.keras.models import Model\n",
        "from os.path import exists, join, basename\n",
        "from os import makedirs, remove, path\n",
        "from six.moves import urllib"
      ],
      "execution_count": 34,
      "outputs": []
    },
    {
      "cell_type": "markdown",
      "metadata": {
        "id": "IQgugU2Ptomi"
      },
      "source": [
        "Parameters"
      ]
    },
    {
      "cell_type": "code",
      "metadata": {
        "id": "EVYas9NyqHTI"
      },
      "source": [
        "SCALE = 2\n",
        "LR_SIZE = 100\n",
        "# Make sure HR_SIZE is smaller than 300 since some images in the dataset have height/width < 300\n",
        "HR_SIZE = LR_SIZE * SCALE\n",
        "\n",
        "BATCH_SIZE = 100"
      ],
      "execution_count": 35,
      "outputs": []
    },
    {
      "cell_type": "markdown",
      "metadata": {
        "id": "RSjMczfxtkbB"
      },
      "source": [
        "MODEL DESIGN"
      ]
    },
    {
      "cell_type": "code",
      "metadata": {
        "colab": {
          "base_uri": "https://localhost:8080/"
        },
        "id": "WkSXykCyqbnv",
        "outputId": "fe0f1761-919f-4174-f6f3-c7b5bb8b8640"
      },
      "source": [
        "# Helper function to wrap depth_to_space op (pixel shuffle) in a Lambda layer\n",
        "def pixel_shuffle(scale):\n",
        "    return lambda x: tf.nn.depth_to_space(x, scale)\n",
        "\n",
        "input = Input(shape=(LR_SIZE, LR_SIZE, 1))\n",
        "x = Conv2D(128, [9, 9], padding='same', activation='relu')(input)\n",
        "x = Conv2D(64, [5, 5], padding='same', activation='relu')(x)\n",
        "x = Conv2D(32, [3, 3], padding='same', activation='relu')(x)\n",
        "x = Conv2D(16, [1, 1], padding='same', activation='relu')(x)\n",
        "x = Conv2D(SCALE**2, [3, 3], padding='same')(x)\n",
        "x = Lambda(pixel_shuffle(scale=SCALE))(x)\n",
        "x = Activation('tanh')(x)\n",
        "model = Model(input, x, name=\"ESPCN\")\n",
        "\n",
        "model.summary()"
      ],
      "execution_count": 36,
      "outputs": [
        {
          "output_type": "stream",
          "name": "stdout",
          "text": [
            "Model: \"ESPCN\"\n",
            "_________________________________________________________________\n",
            "Layer (type)                 Output Shape              Param #   \n",
            "=================================================================\n",
            "input_9 (InputLayer)         [(None, 100, 100, 1)]     0         \n",
            "_________________________________________________________________\n",
            "conv2d_29 (Conv2D)           (None, 100, 100, 128)     10496     \n",
            "_________________________________________________________________\n",
            "conv2d_30 (Conv2D)           (None, 100, 100, 64)      204864    \n",
            "_________________________________________________________________\n",
            "conv2d_31 (Conv2D)           (None, 100, 100, 32)      18464     \n",
            "_________________________________________________________________\n",
            "conv2d_32 (Conv2D)           (None, 100, 100, 16)      528       \n",
            "_________________________________________________________________\n",
            "conv2d_33 (Conv2D)           (None, 100, 100, 4)       580       \n",
            "_________________________________________________________________\n",
            "lambda_8 (Lambda)            (None, 200, 200, 1)       0         \n",
            "_________________________________________________________________\n",
            "activation_8 (Activation)    (None, 200, 200, 1)       0         \n",
            "=================================================================\n",
            "Total params: 234,932\n",
            "Trainable params: 234,932\n",
            "Non-trainable params: 0\n",
            "_________________________________________________________________\n"
          ]
        }
      ]
    }
  ]
}